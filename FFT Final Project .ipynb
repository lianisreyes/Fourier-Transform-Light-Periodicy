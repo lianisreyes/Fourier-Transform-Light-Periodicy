{
 "cells": [
  {
   "cell_type": "code",
   "execution_count": null,
   "metadata": {},
   "outputs": [],
   "source": [
    "import numpy as np\n",
    "import matplotlib.pyplot as plt\n",
    "# import database_manager as dbm\n",
    "import pandas as pd"
   ]
  },
  {
   "cell_type": "code",
   "execution_count": null,
   "metadata": {},
   "outputs": [],
   "source": [
    "#  Example from Git hub \n",
    "#  link to the github reference:\n",
    "#  https://github.com/pavelkulich/SignalAnalysis/blob/36a35c6a9e37a9ce65d6bb1e6098652671018a90/spectrum.py  \n",
    "\n",
    "def dft(x):\n",
    "    \"\"\"\n",
    "    Compute the discrete Fourier Transform of the 1D array x\n",
    "    :param x: (array)\n",
    "    \"\"\"\n",
    "\n",
    "    N = len(x)\n",
    "    n = np.arange(N)\n",
    "    k = n.reshape((N, 1))\n",
    "    e = np.exp(-2j * np.pi * k * n / N)\n",
    "    return np.dot(e, x)\n",
    "\n",
    "\n",
    "def plot_frequency(x, y, N):\n",
    "    plt.plot(x[0:N // 2], np.abs(y)[0:N // 2] / N)\n",
    "    plt.xlabel('frequency [Hz]')\n",
    "    plt.ylabel('amplitude [mm]')\n",
    "    plt.xscale('log')\n",
    "    plt.grid(True, which='major')\n",
    "    plt.grid(True, which='minor')\n",
    "    plt.show()\n",
    "\n",
    "\n",
    "def plot_wavelength(x, y, N):\n",
    "    plt.bar(N / 4 * x[2:N // 2] ** (-1), np.abs(y)[2:N // 2] / N)\n",
    "    plt.xlabel('wavelength [m]')\n",
    "    plt.ylabel('amplitude [mm]')\n",
    "    plt.xscale('log')\n",
    "    plt.grid(True, which='major')\n",
    "    plt.grid(True, which='minor')\n",
    "    plt.savefig('plots/dft.png')\n",
    "    plt.show()\n",
    "\n",
    "\n",
    "def import_file(directory, file):\n",
    "    path = f'{directory}/{file}'\n",
    "    data_frame = pd.read_fwf(path).dropna()\n",
    "    return data_frame\n",
    "\n",
    "\n",
    "def main():\n",
    "    # plot = ('MV_2015_03_15', 106.000, 107.000, 'VK_D2')\n",
    "    # database = dbm.DbManager('signal.sqlite3')\n",
    "    # data = database.fetch_data(plot[0], plot[1], plot[2], plot[3])\n",
    "\n",
    "    # x = [row[0] for row in data]\n",
    "    # y = [row[1] for row in data]\n",
    "    # amp = dft(y)\n",
    "    data = import_file(\"data\", \"2015_03_15.txt\")\n",
    "    x = data['_KM.M____'][0:4000]\n",
    "    y = data['SL_D1'][0:4000]\n",
    "    N = x.size\n",
    "    amp = np.fft.fft(y)\n",
    "    T = x[1] - x[0]\n",
    "    # N = len(y)\n",
    "    f = np.linspace(0, 1 / T, N)\n",
    "    # plt.plot(y)\n",
    "    # plt.grid(True, which='major')\n",
    "    # plt.grid(True, which='minor')\n",
    "    # plt.show()\n",
    "    plot_wavelength(f, amp, N)\n",
    "\n",
    "\n",
    "main()"
   ]
  },
  {
   "cell_type": "code",
   "execution_count": null,
   "metadata": {},
   "outputs": [],
   "source": [
    "#  Full code with discription "
   ]
  }
 ],
 "metadata": {
  "language_info": {
   "name": "python"
  }
 },
 "nbformat": 4,
 "nbformat_minor": 2
}
