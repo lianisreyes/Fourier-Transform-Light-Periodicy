{
 "cells": [
  {
   "cell_type": "code",
   "execution_count": 2,
   "metadata": {},
   "outputs": [],
   "source": [
    "import numpy as np\n",
    "import matplotlib.pyplot as plt\n",
    "# import database_manager as dbm\n",
    "import pandas as pd\n",
    "import Scott_Princeton\n",
    "import numpy.random as rand"
   ]
  },
  {
   "cell_type": "markdown",
   "metadata": {},
   "source": [
    "Artificial Data formation and Alteration "
   ]
  },
  {
   "cell_type": "code",
   "execution_count": 3,
   "metadata": {},
   "outputs": [],
   "source": [
    "\n",
    "def lorentzian(phi, gamma, x0 = 0.5):\n",
    "    return (gamma/((phi - x0)**2 + gamma**2))/np.pi\n",
    "\n",
    "\n",
    "def generate(n_samples, n_bins, noise = True):\n",
    "    max_subpulses = 6\n",
    "    phi = np.linspace(0, 1, n_bins)\n",
    "    pulses = np.zeros((n_samples, n_bins))\n",
    "    locs = np.zeros((n_samples, max_subpulses + 1))\n",
    "    gammas = np.copy(locs)\n",
    "    amps = np.copy(locs)\n",
    "\n",
    "    for i in range(n_samples):\n",
    "        gamma = rand.choice(np.linspace(0.001, 0.05, 1000))\n",
    "        pulse = lorentzian(phi, gamma)\n",
    "        pulse /= max(pulse)\n",
    "        pulse = np.zeros(1024)\n",
    "\n",
    "        subpulses = rand.randint(0, max_subpulses + 1)\n",
    "        subpulses = max_subpulses \n",
    "        #subpulses\n",
    "        for j in range(subpulses):\n",
    "            gamma_sub = rand.choice(np.linspace(0.001, 0.1, 1000))\n",
    "            loc_sub = 0.5 + rand.normal(0, 0.1)\n",
    "            #loc_sub = rand.choice(np.linspace(0.1, 0.9, 1024))\n",
    "            subpulse = lorentzian(phi, gamma_sub,loc_sub)\n",
    "            amp = rand.choice(np.linspace(0.1, 0.9))\n",
    "            subpulse *= amp/max(subpulse)\n",
    "            pulse += subpulse\n",
    "\n",
    "            locs[i, j + 1] = loc_sub\n",
    "            gammas[i, j + 1] = gamma_sub\n",
    "            amps[i, j + 1] = amp\n",
    "\n",
    "        if noise:\n",
    "            rms = rand.choice(np.linspace(0.001, 0.3, 3000))\n",
    "            pulse += rand.normal(0, rms, n_bins)\n",
    "\n",
    "        pulses[i] = pulse\n",
    "        locs[i, 0] = 0.5\n",
    "        gammas[i, 0] = gamma\n",
    "        amps[i, 0] = 1\n",
    "\n",
    "    return pulses, locs, gammas, amps\n",
    "\n",
    "def generate_dummy(n_samples, n_bins):\n",
    "    phi = np.linspace(0, 1, n_bins)\n",
    "    pulses = np.zeros((n_samples, n_bins))\n",
    "    locs = np.zeros(n_samples)\n",
    "\n",
    "    for i in range(n_samples):\n",
    "\n",
    "        pulse = np.zeros(1024)\n",
    "\n",
    "        gamma_sub = rand.choice(np.linspace(0.001, 0.05, 1000))\n",
    "        loc_sub = rand.choice(np.linspace(0.1, 0.9, 1024))\n",
    "        subpulse = lorentzian(phi, gamma_sub,loc_sub)\n",
    "        amp = rand.choice(np.linspace(0.1, 0.9))\n",
    "        subpulse *= amp/max(subpulse)\n",
    "        pulse += subpulse\n",
    "\n",
    "        locs[i] = loc_sub\n",
    "        pulses[i] = pulse\n",
    "\n",
    "    return pulses, locs"
   ]
  },
  {
   "cell_type": "markdown",
   "metadata": {},
   "source": [
    "Main Code "
   ]
  },
  {
   "cell_type": "code",
   "execution_count": null,
   "metadata": {},
   "outputs": [],
   "source": [
    "#  Example from Git hub \n",
    "#  link to the github reference:\n",
    "#  https://github.com/pavelkulich/SignalAnalysis/blob/36a35c6a9e37a9ce65d6bb1e6098652671018a90/spectrum.py  \n",
    "\n",
    "def dft(x):\n",
    "    \"\"\"\n",
    "    Compute the discrete Fourier Transform of the 1D array x\n",
    "    :param x: (array)\n",
    "    \"\"\"\n",
    "\n",
    "    N = len(x)\n",
    "    n = np.arange(N)\n",
    "    k = n.reshape((N, 1))\n",
    "    e = np.exp(-2j * np.pi * k * n / N)\n",
    "    return np.dot(e, x)\n",
    "\n",
    "\n",
    "def plot_frequency(x, y, N):\n",
    "    plt.plot(x[0:N // 2], np.abs(y)[0:N // 2] / N)\n",
    "    plt.xlabel('frequency [Hz]')\n",
    "    plt.ylabel('amplitude [mm]')\n",
    "    plt.xscale('log')\n",
    "    plt.grid(True, which='major')\n",
    "    plt.grid(True, which='minor')\n",
    "    plt.show()\n",
    "\n",
    "\n",
    "def plot_wavelength(x, y, N):\n",
    "    plt.bar(N / 4 * x[2:N // 2] ** (-1), np.abs(y)[2:N // 2] / N)\n",
    "    plt.xlabel('wavelength [m]')\n",
    "    plt.ylabel('amplitude [mm]')\n",
    "    plt.xscale('log')\n",
    "    plt.grid(True, which='major')\n",
    "    plt.grid(True, which='minor')\n",
    "    plt.savefig('plots/dft.png')\n",
    "    plt.show()\n",
    "\n",
    "\n",
    "def import_file(directory, file):\n",
    "    path = f'{directory}/{file}'\n",
    "    data_frame = pd.read_fwf(path).dropna()\n",
    "    return data_frame\n",
    "\n",
    "\n",
    "def main():\n",
    "    # plot = ('MV_2015_03_15', 106.000, 107.000, 'VK_D2')\n",
    "    # database = dbm.DbManager('signal.sqlite3')\n",
    "    # data = database.fetch_data(plot[0], plot[1], plot[2], plot[3])\n",
    "\n",
    "    # x = [row[0] for row in data]\n",
    "    # y = [row[1] for row in data]\n",
    "    # amp = dft(y)\n",
    "    data = import_file(\"data\", \"2015_03_15.txt\")\n",
    "    x = data['_KM.M____'][0:4000]\n",
    "    y = data['SL_D1'][0:4000]\n",
    "    N = x.size\n",
    "    amp = np.fft.fft(y)\n",
    "    T = x[1] - x[0]\n",
    "    # N = len(y)\n",
    "    f = np.linspace(0, 1 / T, N)\n",
    "    # plt.plot(y)\n",
    "    # plt.grid(True, which='major')\n",
    "    # plt.grid(True, which='minor')\n",
    "    # plt.show()\n",
    "    plot_wavelength(f, amp, N)\n",
    "\n",
    "\n",
    "main()"
   ]
  },
  {
   "cell_type": "code",
   "execution_count": 6,
   "metadata": {},
   "outputs": [
    {
     "data": {
      "text/plain": [
       "Text(0.5, 1.0, 'Sample Gaussian Pulse and Sub-Pulse')"
      ]
     },
     "execution_count": 6,
     "metadata": {},
     "output_type": "execute_result"
    },
    {
     "data": {
      "image/png": "[encoded data removed]",
      "text/plain": [
       "<Figure size 432x288 with 1 Axes>"
      ]
     },
     "metadata": {
      "needs_background": "light"
     },
     "output_type": "display_data"
    }
   ],
   "source": [
    "def gaussian(x, mu, sig):\n",
    "    return np.exp(-0.5*((x - mu)/sig)**2)/(sig*np.sqrt(2*np.pi))\n",
    "\n",
    "phi_bins = 1024\n",
    "pulse = gaussian(np.linspace(0, 1, phi_bins), 0.5, 0.05) + 0.15*gaussian(np.linspace(0, 1, phi_bins), 0.6, 0.01)\n",
    "pulse /= max(pulse)\n",
    "\n",
    "plt.plot(pulse)\n",
    "plt.xlabel(r'$\\phi$')\n",
    "plt.ylabel('Normalized Stokes Intensity')\n",
    "plt.title('Sample Gaussian Pulse and Sub-Pulse')"
   ]
  },
  {
   "cell_type": "code",
   "execution_count": null,
   "metadata": {},
   "outputs": [],
   "source": [
    "true_freq = 25\n",
    "df = 9.7e-4\n",
    "true_bin = true_freq/df\n",
    "true_bin"
   ]
  },
  {
   "cell_type": "code",
   "execution_count": 7,
   "metadata": {},
   "outputs": [],
   "source": [
    "#  Full code with discription  Reyn\n",
    "\n",
    "\n",
    "def harmonics(prof, f_true, df):\n",
    "    \n",
    "    \"\"\"This function calculates the array of frequency-domain harmonics for a given pulse profile.\n",
    "\n",
    "    Inputs:\n",
    "    _______\n",
    "            prof (ndarray): pulse phase profile\n",
    "            f_true (float): true rotational frequency in Hz\n",
    "            df (float)    : frequency bin width in target spectrum\n",
    "\n",
    "    Returns:\n",
    "    ________\n",
    "            harmonics (ndarray) : Fourier-transformed harmonics of the profile convolved with\n",
    "                                    [cycles] number of Delta functions\n",
    "    \"\"\"\n",
    "    #currently we are calculating the first 10 harmonics in the 2 bins on either side of the true value (2 + 2 = 4)\n",
    "    harmonics = np.zeros((40))\n",
    "    bins = np.zeros((40)).astype(int)\n",
    "\n",
    "    #take the fft of the pulse\n",
    "    prof_fft = rfft(prof)\n",
    "    \n",
    "    #now evaluate sinc-modified power at each of the first 10 harmonics\n",
    "    for i in range(1, 11):\n",
    "        f_harm = i*f_true\n",
    "        bin_true = f_harm/df\n",
    "        bin_below = np.floor(bin_true)\n",
    "        bin_above = np.ceil(bin_true)\n",
    "\n",
    "        #use 2 bins on either side\n",
    "        current_bins = np.array([bin_below - 1, bin_below, bin_above, bin_above + 1])\n",
    "        bins[(i - 1)*4:(i - 1)*4+4] = current_bins\n",
    "        amplitude = prof_fft[i]*sinc(np.pi*(bin_true - current_bins))\n",
    "        harmonics[(i - 1)*4:(i - 1)*4+4] = np.abs(amplitude)**2\n",
    "\n",
    "    return bins, harmonics"
   ]
  },
  {
   "cell_type": "code",
   "execution_count": 8,
   "metadata": {},
   "outputs": [
    {
     "ename": "NameError",
     "evalue": "name 'true_freq' is not defined",
     "output_type": "error",
     "traceback": [
      "\u001b[0;31m---------------------------------------------------------------------------\u001b[0m",
      "\u001b[0;31mNameError\u001b[0m                                 Traceback (most recent call last)",
      "Input \u001b[0;32mIn [8]\u001b[0m, in \u001b[0;36m<cell line: 4>\u001b[0;34m()\u001b[0m\n\u001b[1;32m      1\u001b[0m \u001b[38;5;66;03m# continuation plotting harmonics \u001b[39;00m\n\u001b[1;32m      2\u001b[0m nbins \u001b[38;5;241m=\u001b[39m \u001b[38;5;241m300000\u001b[39m\n\u001b[0;32m----> 4\u001b[0m bins, harm \u001b[38;5;241m=\u001b[39m harmonics(pulse, \u001b[43mtrue_freq\u001b[49m, df)\n\u001b[1;32m      5\u001b[0m freq \u001b[38;5;241m=\u001b[39m np\u001b[38;5;241m.\u001b[39mzeros(nbins)\n\u001b[1;32m      6\u001b[0m freq[bins] \u001b[38;5;241m=\u001b[39m harm\n",
      "\u001b[0;31mNameError\u001b[0m: name 'true_freq' is not defined"
     ]
    }
   ],
   "source": [
    "\n",
    "\n",
    "# continuation plotting harmonics \n",
    "nbins = 300000\n",
    "\n",
    "bins, harm = harmonics(pulse, true_freq, df)\n",
    "freq = np.zeros(nbins)\n",
    "freq[bins] = harm\n",
    "plt.plot(np.arange(0, nbins, 1)*df, freq)\n",
    "plt.xlabel('Rotational Frequency (Hz)')\n",
    "plt.ylabel('Some Power')\n",
    "plt.title('Sinc-Approximated Harmonics of our Pulse')\n"
   ]
  },
  {
   "cell_type": "code",
   "execution_count": null,
   "metadata": {},
   "outputs": [],
   "source": []
  }
 ],
 "metadata": {
  "kernelspec": {
   "display_name": "base",
   "language": "python",
   "name": "python3"
  },
  "language_info": {
   "codemirror_mode": {
    "name": "ipython",
    "version": 3
   },
   "file_extension": ".py",
   "mimetype": "text/x-python",
   "name": "python",
   "nbconvert_exporter": "python",
   "pygments_lexer": "ipython3",
   "version": "3.8.10"
  }
 },
 "nbformat": 4,
 "nbformat_minor": 2
}
